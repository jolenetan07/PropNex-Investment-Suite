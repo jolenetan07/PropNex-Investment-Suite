{
 "cells": [
  {
   "cell_type": "code",
   "execution_count": 1,
   "metadata": {},
   "outputs": [],
   "source": [
    "import json"
   ]
  },
  {
   "cell_type": "code",
   "execution_count": 17,
   "metadata": {},
   "outputs": [],
   "source": [
    "filename = \"West_Region_Pred.json\"\n",
    "\n",
    "with open(filename, 'r') as openfile:\n",
    "    json_object = json.load(openfile)\n",
    "\n",
    "new_y = []\n",
    "for y in json_object[\"y\"]:\n",
    "    new_y.append(y/10.764)\n",
    "json_object[\"y\"] = new_y\n",
    "\n",
    "with open(filename, \"w\") as outfile:\n",
    "    outfile.write(json.dumps(json_object, indent=4))"
   ]
  },
  {
   "cell_type": "code",
   "execution_count": null,
   "metadata": {},
   "outputs": [],
   "source": []
  }
 ],
 "metadata": {
  "kernelspec": {
   "display_name": "base",
   "language": "python",
   "name": "python3"
  },
  "language_info": {
   "codemirror_mode": {
    "name": "ipython",
    "version": 3
   },
   "file_extension": ".py",
   "mimetype": "text/x-python",
   "name": "python",
   "nbconvert_exporter": "python",
   "pygments_lexer": "ipython3",
   "version": "3.7.11"
  },
  "orig_nbformat": 4,
  "vscode": {
   "interpreter": {
    "hash": "4960bca76a7154a4c4f6fb78d11df0e623a8f9ce68f30743916bbf59bb4e1e87"
   }
  }
 },
 "nbformat": 4,
 "nbformat_minor": 2
}
