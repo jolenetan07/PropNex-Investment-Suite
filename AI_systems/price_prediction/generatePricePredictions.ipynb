{
 "cells": [
  {
   "cell_type": "code",
   "execution_count": 30,
   "metadata": {},
   "outputs": [],
   "source": [
    "import pandas as pd\n",
    "import json\n",
    "import tensorflow as tf\n",
    "import numpy as np\n",
    "from dateutil.relativedelta import *"
   ]
  },
  {
   "cell_type": "code",
   "execution_count": 14,
   "metadata": {},
   "outputs": [],
   "source": [
    "transaction_csv_FILEPATH = \"../data/transactions_w_districts.csv\" # CHANGE this filepath appropriately\n",
    "model_folder_name = \"mlp_model\" # CHANGE this filepath appropriately"
   ]
  },
  {
   "cell_type": "code",
   "execution_count": 2,
   "metadata": {},
   "outputs": [
    {
     "name": "stdout",
     "output_type": "stream",
     "text": [
      "(263262, 12)\n"
     ]
    },
    {
     "name": "stderr",
     "output_type": "stream",
     "text": [
      "C:\\Users\\65901\\AppData\\Roaming\\Python\\Python37\\site-packages\\IPython\\core\\interactiveshell.py:3417: DtypeWarning: Columns (5,6,9) have mixed types.Specify dtype option on import or set low_memory=False.\n",
      "  exec(code_obj, self.user_global_ns, self.user_ns)\n"
     ]
    },
    {
     "data": {
      "text/html": [
       "<div>\n",
       "<style scoped>\n",
       "    .dataframe tbody tr th:only-of-type {\n",
       "        vertical-align: middle;\n",
       "    }\n",
       "\n",
       "    .dataframe tbody tr th {\n",
       "        vertical-align: top;\n",
       "    }\n",
       "\n",
       "    .dataframe thead th {\n",
       "        text-align: right;\n",
       "    }\n",
       "</style>\n",
       "<table border=\"1\" class=\"dataframe\">\n",
       "  <thead>\n",
       "    <tr style=\"text-align: right;\">\n",
       "      <th></th>\n",
       "      <th>Address/Project Name</th>\n",
       "      <th>Date of Sale</th>\n",
       "      <th>Sale Price</th>\n",
       "      <th>Private/Public</th>\n",
       "      <th>Type</th>\n",
       "      <th>Floor_min</th>\n",
       "      <th>Floor_max</th>\n",
       "      <th>Area (Sqft)</th>\n",
       "      <th>Remaining Lease (2022)</th>\n",
       "      <th>Flat_model</th>\n",
       "      <th>District</th>\n",
       "      <th>Price psft</th>\n",
       "    </tr>\n",
       "  </thead>\n",
       "  <tbody>\n",
       "    <tr>\n",
       "      <th>0</th>\n",
       "      <td>PEOPLE'S PARK COMPLEX</td>\n",
       "      <td>2022-09-01</td>\n",
       "      <td>1060000.0</td>\n",
       "      <td>Private</td>\n",
       "      <td>Apartment</td>\n",
       "      <td>11</td>\n",
       "      <td>15</td>\n",
       "      <td>1119.45</td>\n",
       "      <td>45 years</td>\n",
       "      <td>NaN</td>\n",
       "      <td>Central Region</td>\n",
       "      <td>946.893564</td>\n",
       "    </tr>\n",
       "    <tr>\n",
       "      <th>1</th>\n",
       "      <td>THE SAIL @ MARINA BAY</td>\n",
       "      <td>2022-09-01</td>\n",
       "      <td>1300000.0</td>\n",
       "      <td>Private</td>\n",
       "      <td>Apartment</td>\n",
       "      <td>61</td>\n",
       "      <td>65</td>\n",
       "      <td>678.13</td>\n",
       "      <td>79 years</td>\n",
       "      <td>NaN</td>\n",
       "      <td>Central Region</td>\n",
       "      <td>1917.036556</td>\n",
       "    </tr>\n",
       "    <tr>\n",
       "      <th>2</th>\n",
       "      <td>MARINA ONE RESIDENCES</td>\n",
       "      <td>2022-08-01</td>\n",
       "      <td>1620000.0</td>\n",
       "      <td>Private</td>\n",
       "      <td>Apartment</td>\n",
       "      <td>26</td>\n",
       "      <td>30</td>\n",
       "      <td>699.65</td>\n",
       "      <td>88 years</td>\n",
       "      <td>NaN</td>\n",
       "      <td>Central Region</td>\n",
       "      <td>2315.443436</td>\n",
       "    </tr>\n",
       "    <tr>\n",
       "      <th>3</th>\n",
       "      <td>MARINA ONE RESIDENCES</td>\n",
       "      <td>2022-08-01</td>\n",
       "      <td>3744171.0</td>\n",
       "      <td>Private</td>\n",
       "      <td>Apartment</td>\n",
       "      <td>26</td>\n",
       "      <td>30</td>\n",
       "      <td>1517.71</td>\n",
       "      <td>88 years</td>\n",
       "      <td>NaN</td>\n",
       "      <td>Central Region</td>\n",
       "      <td>2466.987106</td>\n",
       "    </tr>\n",
       "    <tr>\n",
       "      <th>4</th>\n",
       "      <td>ONE SHENTON</td>\n",
       "      <td>2022-08-01</td>\n",
       "      <td>1100000.0</td>\n",
       "      <td>Private</td>\n",
       "      <td>Apartment</td>\n",
       "      <td>11</td>\n",
       "      <td>15</td>\n",
       "      <td>581.25</td>\n",
       "      <td>82 years</td>\n",
       "      <td>NaN</td>\n",
       "      <td>Central Region</td>\n",
       "      <td>1892.473118</td>\n",
       "    </tr>\n",
       "  </tbody>\n",
       "</table>\n",
       "</div>"
      ],
      "text/plain": [
       "    Address/Project Name Date of Sale  Sale Price Private/Public       Type  \\\n",
       "0  PEOPLE'S PARK COMPLEX   2022-09-01   1060000.0        Private  Apartment   \n",
       "1  THE SAIL @ MARINA BAY   2022-09-01   1300000.0        Private  Apartment   \n",
       "2  MARINA ONE RESIDENCES   2022-08-01   1620000.0        Private  Apartment   \n",
       "3  MARINA ONE RESIDENCES   2022-08-01   3744171.0        Private  Apartment   \n",
       "4            ONE SHENTON   2022-08-01   1100000.0        Private  Apartment   \n",
       "\n",
       "  Floor_min Floor_max  Area (Sqft) Remaining Lease (2022) Flat_model  \\\n",
       "0        11        15      1119.45               45 years        NaN   \n",
       "1        61        65       678.13               79 years        NaN   \n",
       "2        26        30       699.65               88 years        NaN   \n",
       "3        26        30      1517.71               88 years        NaN   \n",
       "4        11        15       581.25               82 years        NaN   \n",
       "\n",
       "         District   Price psft  \n",
       "0  Central Region   946.893564  \n",
       "1  Central Region  1917.036556  \n",
       "2  Central Region  2315.443436  \n",
       "3  Central Region  2466.987106  \n",
       "4  Central Region  1892.473118  "
      ]
     },
     "execution_count": 2,
     "metadata": {},
     "output_type": "execute_result"
    }
   ],
   "source": [
    "trans = pd.read_csv(transaction_csv_FILEPATH, parse_dates=[\"Date of Sale\"])\n",
    "print(trans.shape)\n",
    "trans.head()"
   ]
  },
  {
   "cell_type": "code",
   "execution_count": 3,
   "metadata": {},
   "outputs": [
    {
     "data": {
      "text/plain": [
       "count      69.000000\n",
       "mean     3815.391304\n",
       "std      1380.743121\n",
       "min       592.000000\n",
       "25%      3234.000000\n",
       "50%      3877.000000\n",
       "75%      4766.000000\n",
       "max      6401.000000\n",
       "Name: Price psft, dtype: float64"
      ]
     },
     "execution_count": 3,
     "metadata": {},
     "output_type": "execute_result"
    }
   ],
   "source": [
    "trans.groupby([trans[\"Date of Sale\"].dt.year, trans[\"Date of Sale\"].dt.month])[\"Price psft\"].count().describe()"
   ]
  },
  {
   "cell_type": "code",
   "execution_count": 9,
   "metadata": {},
   "outputs": [
    {
     "name": "stdout",
     "output_type": "stream",
     "text": [
      "(69, 4)\n"
     ]
    },
    {
     "data": {
      "text/html": [
       "<div>\n",
       "<style scoped>\n",
       "    .dataframe tbody tr th:only-of-type {\n",
       "        vertical-align: middle;\n",
       "    }\n",
       "\n",
       "    .dataframe tbody tr th {\n",
       "        vertical-align: top;\n",
       "    }\n",
       "\n",
       "    .dataframe thead th {\n",
       "        text-align: right;\n",
       "    }\n",
       "</style>\n",
       "<table border=\"1\" class=\"dataframe\">\n",
       "  <thead>\n",
       "    <tr style=\"text-align: right;\">\n",
       "      <th></th>\n",
       "      <th>Sale Price</th>\n",
       "      <th>Area (Sqft)</th>\n",
       "      <th>Price psft</th>\n",
       "      <th>Date</th>\n",
       "    </tr>\n",
       "  </thead>\n",
       "  <tbody>\n",
       "    <tr>\n",
       "      <th>0</th>\n",
       "      <td>427506.984810</td>\n",
       "      <td>1029.992658</td>\n",
       "      <td>420.272433</td>\n",
       "      <td>2017-01-01</td>\n",
       "    </tr>\n",
       "    <tr>\n",
       "      <th>1</th>\n",
       "      <td>447398.734562</td>\n",
       "      <td>1059.724175</td>\n",
       "      <td>425.967234</td>\n",
       "      <td>2017-02-01</td>\n",
       "    </tr>\n",
       "    <tr>\n",
       "      <th>2</th>\n",
       "      <td>445029.896942</td>\n",
       "      <td>1045.616684</td>\n",
       "      <td>429.620263</td>\n",
       "      <td>2017-03-01</td>\n",
       "    </tr>\n",
       "    <tr>\n",
       "      <th>3</th>\n",
       "      <td>438629.272235</td>\n",
       "      <td>1045.006427</td>\n",
       "      <td>424.037796</td>\n",
       "      <td>2017-04-01</td>\n",
       "    </tr>\n",
       "    <tr>\n",
       "      <th>4</th>\n",
       "      <td>443789.321212</td>\n",
       "      <td>1048.781520</td>\n",
       "      <td>426.619906</td>\n",
       "      <td>2017-05-01</td>\n",
       "    </tr>\n",
       "  </tbody>\n",
       "</table>\n",
       "</div>"
      ],
      "text/plain": [
       "      Sale Price  Area (Sqft)  Price psft       Date\n",
       "0  427506.984810  1029.992658  420.272433 2017-01-01\n",
       "1  447398.734562  1059.724175  425.967234 2017-02-01\n",
       "2  445029.896942  1045.616684  429.620263 2017-03-01\n",
       "3  438629.272235  1045.006427  424.037796 2017-04-01\n",
       "4  443789.321212  1048.781520  426.619906 2017-05-01"
      ]
     },
     "execution_count": 9,
     "metadata": {},
     "output_type": "execute_result"
    }
   ],
   "source": [
    "mean_df = trans.groupby([trans[\"Date of Sale\"].dt.year, trans[\"Date of Sale\"].dt.month]).mean()\n",
    "mean_df[\"Date\"] = list(mean_df.index)\n",
    "dates = []\n",
    "for d in mean_df[\"Date\"]:\n",
    "    if len(str(d[1]))<2:\n",
    "        day = \"0\" + str(d[1])\n",
    "    else:\n",
    "        day = str(d[1])\n",
    "    temp = str(d[0]) + \"-\" + day\n",
    "    dates.append(temp)\n",
    "mean_df[\"Date\"] = pd.to_datetime(dates)\n",
    "mean_df.reset_index(drop=True, inplace=True)\n",
    "print(mean_df.shape)\n",
    "mean_df.head()"
   ]
  },
  {
   "cell_type": "code",
   "execution_count": 15,
   "metadata": {},
   "outputs": [],
   "source": [
    "model = tf.keras.models.load_model(model_folder_name)"
   ]
  },
  {
   "cell_type": "code",
   "execution_count": 17,
   "metadata": {},
   "outputs": [],
   "source": [
    "X_final = np.array(mean_df[\"Price psft\"][-24:]).reshape(1,24)\n",
    "pred = model.predict(X_final)"
   ]
  },
  {
   "cell_type": "code",
   "execution_count": 31,
   "metadata": {},
   "outputs": [],
   "source": [
    "last_date = list(mean_df[\"Date\"])[-1]\n",
    "pred_date = last_date + relativedelta(months=1)"
   ]
  },
  {
   "cell_type": "code",
   "execution_count": 32,
   "metadata": {},
   "outputs": [],
   "source": [
    "pred_year = pred_date.year\n",
    "pred_month = pred_date.month\n",
    "\n",
    "index_pred = []\n",
    "\n",
    "for i in range(12):\n",
    "    month_str = str(pred_month)\n",
    "    if len(month_str) < 2:\n",
    "        month_str = \"0\" + month_str\n",
    "    year_month = str(pred_year) + \"-\" + month_str\n",
    "    index_pred.append(year_month)\n",
    "    \n",
    "    pred_month += 1\n",
    "    if pred_month > 12:\n",
    "        pred_month = 1\n",
    "        pred_year += 1"
   ]
  },
  {
   "cell_type": "code",
   "execution_count": 35,
   "metadata": {},
   "outputs": [],
   "source": [
    "fc = pred[0]"
   ]
  },
  {
   "cell_type": "code",
   "execution_count": 36,
   "metadata": {},
   "outputs": [],
   "source": [
    "pred_json = {\"x\":index_pred, \"y\":list(fc.astype(np.float64)), \"type\":\"scatter\",\n",
    "             \"marker\": {\n",
    "                \"color\": \"rgb(14, 37, 207)\"\n",
    "            },\n",
    "            \"line\": {\n",
    "                \"color\": \"rgb(14, 37, 207)\"\n",
    "            }\n",
    "        }"
   ]
  },
  {
   "cell_type": "code",
   "execution_count": 37,
   "metadata": {},
   "outputs": [],
   "source": [
    "with open(\"price_pred.json\", \"w\") as f:\n",
    "    f.write(json.dumps(pred_json, indent=4))"
   ]
  },
  {
   "cell_type": "code",
   "execution_count": null,
   "metadata": {},
   "outputs": [],
   "source": []
  }
 ],
 "metadata": {
  "kernelspec": {
   "display_name": "base",
   "language": "python",
   "name": "python3"
  },
  "language_info": {
   "codemirror_mode": {
    "name": "ipython",
    "version": 3
   },
   "file_extension": ".py",
   "mimetype": "text/x-python",
   "name": "python",
   "nbconvert_exporter": "python",
   "pygments_lexer": "ipython3",
   "version": "3.7.11"
  },
  "orig_nbformat": 4
 },
 "nbformat": 4,
 "nbformat_minor": 2
}
